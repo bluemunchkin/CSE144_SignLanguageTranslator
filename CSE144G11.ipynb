{
  "nbformat": 4,
  "nbformat_minor": 0,
  "metadata": {
    "colab": {
      "provenance": [],
      "gpuType": "T4",
      "include_colab_link": true
    },
    "kernelspec": {
      "name": "python3",
      "display_name": "Python 3"
    },
    "language_info": {
      "name": "python"
    },
    "widgets": {
      "application/vnd.jupyter.widget-state+json": {
        "8e269e82a72e4528b8d82e31ebdbc3bd": {
          "model_module": "@jupyter-widgets/controls",
          "model_name": "HBoxModel",
          "model_module_version": "1.5.0",
          "state": {
            "_dom_classes": [],
            "_model_module": "@jupyter-widgets/controls",
            "_model_module_version": "1.5.0",
            "_model_name": "HBoxModel",
            "_view_count": null,
            "_view_module": "@jupyter-widgets/controls",
            "_view_module_version": "1.5.0",
            "_view_name": "HBoxView",
            "box_style": "",
            "children": [
              "IPY_MODEL_4a748d01171248ada33ca27ddb04c5ea",
              "IPY_MODEL_0ad6a62d17b74b34a46517d03313524c",
              "IPY_MODEL_129160b4dfbb4fc48d69fd499477e43d"
            ],
            "layout": "IPY_MODEL_d63efd4a1158464390d9f9b74c33bb3f"
          }
        },
        "4a748d01171248ada33ca27ddb04c5ea": {
          "model_module": "@jupyter-widgets/controls",
          "model_name": "HTMLModel",
          "model_module_version": "1.5.0",
          "state": {
            "_dom_classes": [],
            "_model_module": "@jupyter-widgets/controls",
            "_model_module_version": "1.5.0",
            "_model_name": "HTMLModel",
            "_view_count": null,
            "_view_module": "@jupyter-widgets/controls",
            "_view_module_version": "1.5.0",
            "_view_name": "HTMLView",
            "description": "",
            "description_tooltip": null,
            "layout": "IPY_MODEL_432e12a074d04f2187c3971bfda4aa57",
            "placeholder": "​",
            "style": "IPY_MODEL_d5fb0fd144384164b366ae99be63e8f3",
            "value": "eating_spaghetti.mp4: 100%"
          }
        },
        "0ad6a62d17b74b34a46517d03313524c": {
          "model_module": "@jupyter-widgets/controls",
          "model_name": "FloatProgressModel",
          "model_module_version": "1.5.0",
          "state": {
            "_dom_classes": [],
            "_model_module": "@jupyter-widgets/controls",
            "_model_module_version": "1.5.0",
            "_model_name": "FloatProgressModel",
            "_view_count": null,
            "_view_module": "@jupyter-widgets/controls",
            "_view_module_version": "1.5.0",
            "_view_name": "ProgressView",
            "bar_style": "success",
            "description": "",
            "description_tooltip": null,
            "layout": "IPY_MODEL_451aa2f67af94ebf9c09fe49eeacd2a5",
            "max": 1013655,
            "min": 0,
            "orientation": "horizontal",
            "style": "IPY_MODEL_1d474c2e6d004c518016987963d48608",
            "value": 1013655
          }
        },
        "129160b4dfbb4fc48d69fd499477e43d": {
          "model_module": "@jupyter-widgets/controls",
          "model_name": "HTMLModel",
          "model_module_version": "1.5.0",
          "state": {
            "_dom_classes": [],
            "_model_module": "@jupyter-widgets/controls",
            "_model_module_version": "1.5.0",
            "_model_name": "HTMLModel",
            "_view_count": null,
            "_view_module": "@jupyter-widgets/controls",
            "_view_module_version": "1.5.0",
            "_view_name": "HTMLView",
            "description": "",
            "description_tooltip": null,
            "layout": "IPY_MODEL_dbacbddb8ddf4ac18b437f3d79524b60",
            "placeholder": "​",
            "style": "IPY_MODEL_8fada5b45d7f4bd6b77711b627ff6c27",
            "value": " 1.01M/1.01M [00:00&lt;00:00, 5.65MB/s]"
          }
        },
        "d63efd4a1158464390d9f9b74c33bb3f": {
          "model_module": "@jupyter-widgets/base",
          "model_name": "LayoutModel",
          "model_module_version": "1.2.0",
          "state": {
            "_model_module": "@jupyter-widgets/base",
            "_model_module_version": "1.2.0",
            "_model_name": "LayoutModel",
            "_view_count": null,
            "_view_module": "@jupyter-widgets/base",
            "_view_module_version": "1.2.0",
            "_view_name": "LayoutView",
            "align_content": null,
            "align_items": null,
            "align_self": null,
            "border": null,
            "bottom": null,
            "display": null,
            "flex": null,
            "flex_flow": null,
            "grid_area": null,
            "grid_auto_columns": null,
            "grid_auto_flow": null,
            "grid_auto_rows": null,
            "grid_column": null,
            "grid_gap": null,
            "grid_row": null,
            "grid_template_areas": null,
            "grid_template_columns": null,
            "grid_template_rows": null,
            "height": null,
            "justify_content": null,
            "justify_items": null,
            "left": null,
            "margin": null,
            "max_height": null,
            "max_width": null,
            "min_height": null,
            "min_width": null,
            "object_fit": null,
            "object_position": null,
            "order": null,
            "overflow": null,
            "overflow_x": null,
            "overflow_y": null,
            "padding": null,
            "right": null,
            "top": null,
            "visibility": null,
            "width": null
          }
        },
        "432e12a074d04f2187c3971bfda4aa57": {
          "model_module": "@jupyter-widgets/base",
          "model_name": "LayoutModel",
          "model_module_version": "1.2.0",
          "state": {
            "_model_module": "@jupyter-widgets/base",
            "_model_module_version": "1.2.0",
            "_model_name": "LayoutModel",
            "_view_count": null,
            "_view_module": "@jupyter-widgets/base",
            "_view_module_version": "1.2.0",
            "_view_name": "LayoutView",
            "align_content": null,
            "align_items": null,
            "align_self": null,
            "border": null,
            "bottom": null,
            "display": null,
            "flex": null,
            "flex_flow": null,
            "grid_area": null,
            "grid_auto_columns": null,
            "grid_auto_flow": null,
            "grid_auto_rows": null,
            "grid_column": null,
            "grid_gap": null,
            "grid_row": null,
            "grid_template_areas": null,
            "grid_template_columns": null,
            "grid_template_rows": null,
            "height": null,
            "justify_content": null,
            "justify_items": null,
            "left": null,
            "margin": null,
            "max_height": null,
            "max_width": null,
            "min_height": null,
            "min_width": null,
            "object_fit": null,
            "object_position": null,
            "order": null,
            "overflow": null,
            "overflow_x": null,
            "overflow_y": null,
            "padding": null,
            "right": null,
            "top": null,
            "visibility": null,
            "width": null
          }
        },
        "d5fb0fd144384164b366ae99be63e8f3": {
          "model_module": "@jupyter-widgets/controls",
          "model_name": "DescriptionStyleModel",
          "model_module_version": "1.5.0",
          "state": {
            "_model_module": "@jupyter-widgets/controls",
            "_model_module_version": "1.5.0",
            "_model_name": "DescriptionStyleModel",
            "_view_count": null,
            "_view_module": "@jupyter-widgets/base",
            "_view_module_version": "1.2.0",
            "_view_name": "StyleView",
            "description_width": ""
          }
        },
        "451aa2f67af94ebf9c09fe49eeacd2a5": {
          "model_module": "@jupyter-widgets/base",
          "model_name": "LayoutModel",
          "model_module_version": "1.2.0",
          "state": {
            "_model_module": "@jupyter-widgets/base",
            "_model_module_version": "1.2.0",
            "_model_name": "LayoutModel",
            "_view_count": null,
            "_view_module": "@jupyter-widgets/base",
            "_view_module_version": "1.2.0",
            "_view_name": "LayoutView",
            "align_content": null,
            "align_items": null,
            "align_self": null,
            "border": null,
            "bottom": null,
            "display": null,
            "flex": null,
            "flex_flow": null,
            "grid_area": null,
            "grid_auto_columns": null,
            "grid_auto_flow": null,
            "grid_auto_rows": null,
            "grid_column": null,
            "grid_gap": null,
            "grid_row": null,
            "grid_template_areas": null,
            "grid_template_columns": null,
            "grid_template_rows": null,
            "height": null,
            "justify_content": null,
            "justify_items": null,
            "left": null,
            "margin": null,
            "max_height": null,
            "max_width": null,
            "min_height": null,
            "min_width": null,
            "object_fit": null,
            "object_position": null,
            "order": null,
            "overflow": null,
            "overflow_x": null,
            "overflow_y": null,
            "padding": null,
            "right": null,
            "top": null,
            "visibility": null,
            "width": null
          }
        },
        "1d474c2e6d004c518016987963d48608": {
          "model_module": "@jupyter-widgets/controls",
          "model_name": "ProgressStyleModel",
          "model_module_version": "1.5.0",
          "state": {
            "_model_module": "@jupyter-widgets/controls",
            "_model_module_version": "1.5.0",
            "_model_name": "ProgressStyleModel",
            "_view_count": null,
            "_view_module": "@jupyter-widgets/base",
            "_view_module_version": "1.2.0",
            "_view_name": "StyleView",
            "bar_color": null,
            "description_width": ""
          }
        },
        "dbacbddb8ddf4ac18b437f3d79524b60": {
          "model_module": "@jupyter-widgets/base",
          "model_name": "LayoutModel",
          "model_module_version": "1.2.0",
          "state": {
            "_model_module": "@jupyter-widgets/base",
            "_model_module_version": "1.2.0",
            "_model_name": "LayoutModel",
            "_view_count": null,
            "_view_module": "@jupyter-widgets/base",
            "_view_module_version": "1.2.0",
            "_view_name": "LayoutView",
            "align_content": null,
            "align_items": null,
            "align_self": null,
            "border": null,
            "bottom": null,
            "display": null,
            "flex": null,
            "flex_flow": null,
            "grid_area": null,
            "grid_auto_columns": null,
            "grid_auto_flow": null,
            "grid_auto_rows": null,
            "grid_column": null,
            "grid_gap": null,
            "grid_row": null,
            "grid_template_areas": null,
            "grid_template_columns": null,
            "grid_template_rows": null,
            "height": null,
            "justify_content": null,
            "justify_items": null,
            "left": null,
            "margin": null,
            "max_height": null,
            "max_width": null,
            "min_height": null,
            "min_width": null,
            "object_fit": null,
            "object_position": null,
            "order": null,
            "overflow": null,
            "overflow_x": null,
            "overflow_y": null,
            "padding": null,
            "right": null,
            "top": null,
            "visibility": null,
            "width": null
          }
        },
        "8fada5b45d7f4bd6b77711b627ff6c27": {
          "model_module": "@jupyter-widgets/controls",
          "model_name": "DescriptionStyleModel",
          "model_module_version": "1.5.0",
          "state": {
            "_model_module": "@jupyter-widgets/controls",
            "_model_module_version": "1.5.0",
            "_model_name": "DescriptionStyleModel",
            "_view_count": null,
            "_view_module": "@jupyter-widgets/base",
            "_view_module_version": "1.2.0",
            "_view_name": "StyleView",
            "description_width": ""
          }
        },
        "5270f50a385e496a8ff7bfeb97ff43a2": {
          "model_module": "@jupyter-widgets/controls",
          "model_name": "HBoxModel",
          "model_module_version": "1.5.0",
          "state": {
            "_dom_classes": [],
            "_model_module": "@jupyter-widgets/controls",
            "_model_module_version": "1.5.0",
            "_model_name": "HBoxModel",
            "_view_count": null,
            "_view_module": "@jupyter-widgets/controls",
            "_view_module_version": "1.5.0",
            "_view_name": "HBoxView",
            "box_style": "",
            "children": [
              "IPY_MODEL_fca4051ca30845a5941bc5b629dbf68f",
              "IPY_MODEL_a3dad46222c140d299f530133b732d1e",
              "IPY_MODEL_da429e91d8fd4b1cbd9e945d3103076c"
            ],
            "layout": "IPY_MODEL_42d6b071b135472cac17e6d4f6cc7bcd"
          }
        },
        "fca4051ca30845a5941bc5b629dbf68f": {
          "model_module": "@jupyter-widgets/controls",
          "model_name": "HTMLModel",
          "model_module_version": "1.5.0",
          "state": {
            "_dom_classes": [],
            "_model_module": "@jupyter-widgets/controls",
            "_model_module_version": "1.5.0",
            "_model_name": "HTMLModel",
            "_view_count": null,
            "_view_module": "@jupyter-widgets/controls",
            "_view_module_version": "1.5.0",
            "_view_name": "HTMLView",
            "description": "",
            "description_tooltip": null,
            "layout": "IPY_MODEL_a1d302a6397e4928a0d03e949a9deed3",
            "placeholder": "​",
            "style": "IPY_MODEL_e9055e6810794c7eab46783303b099d7",
            "value": "preprocessor_config.json: 100%"
          }
        },
        "a3dad46222c140d299f530133b732d1e": {
          "model_module": "@jupyter-widgets/controls",
          "model_name": "FloatProgressModel",
          "model_module_version": "1.5.0",
          "state": {
            "_dom_classes": [],
            "_model_module": "@jupyter-widgets/controls",
            "_model_module_version": "1.5.0",
            "_model_name": "FloatProgressModel",
            "_view_count": null,
            "_view_module": "@jupyter-widgets/controls",
            "_view_module_version": "1.5.0",
            "_view_name": "ProgressView",
            "bar_style": "success",
            "description": "",
            "description_tooltip": null,
            "layout": "IPY_MODEL_a0c8236f91d44f12b0ea181f601c33e4",
            "max": 271,
            "min": 0,
            "orientation": "horizontal",
            "style": "IPY_MODEL_6963ee1356954eb3b71c83784b93da27",
            "value": 271
          }
        },
        "da429e91d8fd4b1cbd9e945d3103076c": {
          "model_module": "@jupyter-widgets/controls",
          "model_name": "HTMLModel",
          "model_module_version": "1.5.0",
          "state": {
            "_dom_classes": [],
            "_model_module": "@jupyter-widgets/controls",
            "_model_module_version": "1.5.0",
            "_model_name": "HTMLModel",
            "_view_count": null,
            "_view_module": "@jupyter-widgets/controls",
            "_view_module_version": "1.5.0",
            "_view_name": "HTMLView",
            "description": "",
            "description_tooltip": null,
            "layout": "IPY_MODEL_f57262066d704acfaca119591720c2a3",
            "placeholder": "​",
            "style": "IPY_MODEL_c242ca6bca66496d925cbf24b6985cdb",
            "value": " 271/271 [00:00&lt;00:00, 3.58kB/s]"
          }
        },
        "42d6b071b135472cac17e6d4f6cc7bcd": {
          "model_module": "@jupyter-widgets/base",
          "model_name": "LayoutModel",
          "model_module_version": "1.2.0",
          "state": {
            "_model_module": "@jupyter-widgets/base",
            "_model_module_version": "1.2.0",
            "_model_name": "LayoutModel",
            "_view_count": null,
            "_view_module": "@jupyter-widgets/base",
            "_view_module_version": "1.2.0",
            "_view_name": "LayoutView",
            "align_content": null,
            "align_items": null,
            "align_self": null,
            "border": null,
            "bottom": null,
            "display": null,
            "flex": null,
            "flex_flow": null,
            "grid_area": null,
            "grid_auto_columns": null,
            "grid_auto_flow": null,
            "grid_auto_rows": null,
            "grid_column": null,
            "grid_gap": null,
            "grid_row": null,
            "grid_template_areas": null,
            "grid_template_columns": null,
            "grid_template_rows": null,
            "height": null,
            "justify_content": null,
            "justify_items": null,
            "left": null,
            "margin": null,
            "max_height": null,
            "max_width": null,
            "min_height": null,
            "min_width": null,
            "object_fit": null,
            "object_position": null,
            "order": null,
            "overflow": null,
            "overflow_x": null,
            "overflow_y": null,
            "padding": null,
            "right": null,
            "top": null,
            "visibility": null,
            "width": null
          }
        },
        "a1d302a6397e4928a0d03e949a9deed3": {
          "model_module": "@jupyter-widgets/base",
          "model_name": "LayoutModel",
          "model_module_version": "1.2.0",
          "state": {
            "_model_module": "@jupyter-widgets/base",
            "_model_module_version": "1.2.0",
            "_model_name": "LayoutModel",
            "_view_count": null,
            "_view_module": "@jupyter-widgets/base",
            "_view_module_version": "1.2.0",
            "_view_name": "LayoutView",
            "align_content": null,
            "align_items": null,
            "align_self": null,
            "border": null,
            "bottom": null,
            "display": null,
            "flex": null,
            "flex_flow": null,
            "grid_area": null,
            "grid_auto_columns": null,
            "grid_auto_flow": null,
            "grid_auto_rows": null,
            "grid_column": null,
            "grid_gap": null,
            "grid_row": null,
            "grid_template_areas": null,
            "grid_template_columns": null,
            "grid_template_rows": null,
            "height": null,
            "justify_content": null,
            "justify_items": null,
            "left": null,
            "margin": null,
            "max_height": null,
            "max_width": null,
            "min_height": null,
            "min_width": null,
            "object_fit": null,
            "object_position": null,
            "order": null,
            "overflow": null,
            "overflow_x": null,
            "overflow_y": null,
            "padding": null,
            "right": null,
            "top": null,
            "visibility": null,
            "width": null
          }
        },
        "e9055e6810794c7eab46783303b099d7": {
          "model_module": "@jupyter-widgets/controls",
          "model_name": "DescriptionStyleModel",
          "model_module_version": "1.5.0",
          "state": {
            "_model_module": "@jupyter-widgets/controls",
            "_model_module_version": "1.5.0",
            "_model_name": "DescriptionStyleModel",
            "_view_count": null,
            "_view_module": "@jupyter-widgets/base",
            "_view_module_version": "1.2.0",
            "_view_name": "StyleView",
            "description_width": ""
          }
        },
        "a0c8236f91d44f12b0ea181f601c33e4": {
          "model_module": "@jupyter-widgets/base",
          "model_name": "LayoutModel",
          "model_module_version": "1.2.0",
          "state": {
            "_model_module": "@jupyter-widgets/base",
            "_model_module_version": "1.2.0",
            "_model_name": "LayoutModel",
            "_view_count": null,
            "_view_module": "@jupyter-widgets/base",
            "_view_module_version": "1.2.0",
            "_view_name": "LayoutView",
            "align_content": null,
            "align_items": null,
            "align_self": null,
            "border": null,
            "bottom": null,
            "display": null,
            "flex": null,
            "flex_flow": null,
            "grid_area": null,
            "grid_auto_columns": null,
            "grid_auto_flow": null,
            "grid_auto_rows": null,
            "grid_column": null,
            "grid_gap": null,
            "grid_row": null,
            "grid_template_areas": null,
            "grid_template_columns": null,
            "grid_template_rows": null,
            "height": null,
            "justify_content": null,
            "justify_items": null,
            "left": null,
            "margin": null,
            "max_height": null,
            "max_width": null,
            "min_height": null,
            "min_width": null,
            "object_fit": null,
            "object_position": null,
            "order": null,
            "overflow": null,
            "overflow_x": null,
            "overflow_y": null,
            "padding": null,
            "right": null,
            "top": null,
            "visibility": null,
            "width": null
          }
        },
        "6963ee1356954eb3b71c83784b93da27": {
          "model_module": "@jupyter-widgets/controls",
          "model_name": "ProgressStyleModel",
          "model_module_version": "1.5.0",
          "state": {
            "_model_module": "@jupyter-widgets/controls",
            "_model_module_version": "1.5.0",
            "_model_name": "ProgressStyleModel",
            "_view_count": null,
            "_view_module": "@jupyter-widgets/base",
            "_view_module_version": "1.2.0",
            "_view_name": "StyleView",
            "bar_color": null,
            "description_width": ""
          }
        },
        "f57262066d704acfaca119591720c2a3": {
          "model_module": "@jupyter-widgets/base",
          "model_name": "LayoutModel",
          "model_module_version": "1.2.0",
          "state": {
            "_model_module": "@jupyter-widgets/base",
            "_model_module_version": "1.2.0",
            "_model_name": "LayoutModel",
            "_view_count": null,
            "_view_module": "@jupyter-widgets/base",
            "_view_module_version": "1.2.0",
            "_view_name": "LayoutView",
            "align_content": null,
            "align_items": null,
            "align_self": null,
            "border": null,
            "bottom": null,
            "display": null,
            "flex": null,
            "flex_flow": null,
            "grid_area": null,
            "grid_auto_columns": null,
            "grid_auto_flow": null,
            "grid_auto_rows": null,
            "grid_column": null,
            "grid_gap": null,
            "grid_row": null,
            "grid_template_areas": null,
            "grid_template_columns": null,
            "grid_template_rows": null,
            "height": null,
            "justify_content": null,
            "justify_items": null,
            "left": null,
            "margin": null,
            "max_height": null,
            "max_width": null,
            "min_height": null,
            "min_width": null,
            "object_fit": null,
            "object_position": null,
            "order": null,
            "overflow": null,
            "overflow_x": null,
            "overflow_y": null,
            "padding": null,
            "right": null,
            "top": null,
            "visibility": null,
            "width": null
          }
        },
        "c242ca6bca66496d925cbf24b6985cdb": {
          "model_module": "@jupyter-widgets/controls",
          "model_name": "DescriptionStyleModel",
          "model_module_version": "1.5.0",
          "state": {
            "_model_module": "@jupyter-widgets/controls",
            "_model_module_version": "1.5.0",
            "_model_name": "DescriptionStyleModel",
            "_view_count": null,
            "_view_module": "@jupyter-widgets/base",
            "_view_module_version": "1.2.0",
            "_view_name": "StyleView",
            "description_width": ""
          }
        },
        "331e21c8b18f4de597ef5fa63b643239": {
          "model_module": "@jupyter-widgets/controls",
          "model_name": "HBoxModel",
          "model_module_version": "1.5.0",
          "state": {
            "_dom_classes": [],
            "_model_module": "@jupyter-widgets/controls",
            "_model_module_version": "1.5.0",
            "_model_name": "HBoxModel",
            "_view_count": null,
            "_view_module": "@jupyter-widgets/controls",
            "_view_module_version": "1.5.0",
            "_view_name": "HBoxView",
            "box_style": "",
            "children": [
              "IPY_MODEL_3e7db14a503f45da9aa37a37c67d79e0",
              "IPY_MODEL_696795f7f28f4ef9ad78248b61812271",
              "IPY_MODEL_f0e61bb5bdb243c39d1c28280c3be121"
            ],
            "layout": "IPY_MODEL_f9347e58c168463aa68c872180618818"
          }
        },
        "3e7db14a503f45da9aa37a37c67d79e0": {
          "model_module": "@jupyter-widgets/controls",
          "model_name": "HTMLModel",
          "model_module_version": "1.5.0",
          "state": {
            "_dom_classes": [],
            "_model_module": "@jupyter-widgets/controls",
            "_model_module_version": "1.5.0",
            "_model_name": "HTMLModel",
            "_view_count": null,
            "_view_module": "@jupyter-widgets/controls",
            "_view_module_version": "1.5.0",
            "_view_name": "HTMLView",
            "description": "",
            "description_tooltip": null,
            "layout": "IPY_MODEL_cf397590c8ed444cafe0460bde6fb443",
            "placeholder": "​",
            "style": "IPY_MODEL_f3647df7a80544fb92e0b89982c97550",
            "value": "config.json: 100%"
          }
        },
        "696795f7f28f4ef9ad78248b61812271": {
          "model_module": "@jupyter-widgets/controls",
          "model_name": "FloatProgressModel",
          "model_module_version": "1.5.0",
          "state": {
            "_dom_classes": [],
            "_model_module": "@jupyter-widgets/controls",
            "_model_module_version": "1.5.0",
            "_model_name": "FloatProgressModel",
            "_view_count": null,
            "_view_module": "@jupyter-widgets/controls",
            "_view_module_version": "1.5.0",
            "_view_name": "ProgressView",
            "bar_style": "success",
            "description": "",
            "description_tooltip": null,
            "layout": "IPY_MODEL_6dc8187ada51410b8914bca39eaa4235",
            "max": 22865,
            "min": 0,
            "orientation": "horizontal",
            "style": "IPY_MODEL_558add5bdd294c4993cc607e440a35b2",
            "value": 22865
          }
        },
        "f0e61bb5bdb243c39d1c28280c3be121": {
          "model_module": "@jupyter-widgets/controls",
          "model_name": "HTMLModel",
          "model_module_version": "1.5.0",
          "state": {
            "_dom_classes": [],
            "_model_module": "@jupyter-widgets/controls",
            "_model_module_version": "1.5.0",
            "_model_name": "HTMLModel",
            "_view_count": null,
            "_view_module": "@jupyter-widgets/controls",
            "_view_module_version": "1.5.0",
            "_view_name": "HTMLView",
            "description": "",
            "description_tooltip": null,
            "layout": "IPY_MODEL_48f7e15b3c384cce979456ab5b977b92",
            "placeholder": "​",
            "style": "IPY_MODEL_15d211e5c34346d9809fcf14a14cbd90",
            "value": " 22.9k/22.9k [00:00&lt;00:00, 346kB/s]"
          }
        },
        "f9347e58c168463aa68c872180618818": {
          "model_module": "@jupyter-widgets/base",
          "model_name": "LayoutModel",
          "model_module_version": "1.2.0",
          "state": {
            "_model_module": "@jupyter-widgets/base",
            "_model_module_version": "1.2.0",
            "_model_name": "LayoutModel",
            "_view_count": null,
            "_view_module": "@jupyter-widgets/base",
            "_view_module_version": "1.2.0",
            "_view_name": "LayoutView",
            "align_content": null,
            "align_items": null,
            "align_self": null,
            "border": null,
            "bottom": null,
            "display": null,
            "flex": null,
            "flex_flow": null,
            "grid_area": null,
            "grid_auto_columns": null,
            "grid_auto_flow": null,
            "grid_auto_rows": null,
            "grid_column": null,
            "grid_gap": null,
            "grid_row": null,
            "grid_template_areas": null,
            "grid_template_columns": null,
            "grid_template_rows": null,
            "height": null,
            "justify_content": null,
            "justify_items": null,
            "left": null,
            "margin": null,
            "max_height": null,
            "max_width": null,
            "min_height": null,
            "min_width": null,
            "object_fit": null,
            "object_position": null,
            "order": null,
            "overflow": null,
            "overflow_x": null,
            "overflow_y": null,
            "padding": null,
            "right": null,
            "top": null,
            "visibility": null,
            "width": null
          }
        },
        "cf397590c8ed444cafe0460bde6fb443": {
          "model_module": "@jupyter-widgets/base",
          "model_name": "LayoutModel",
          "model_module_version": "1.2.0",
          "state": {
            "_model_module": "@jupyter-widgets/base",
            "_model_module_version": "1.2.0",
            "_model_name": "LayoutModel",
            "_view_count": null,
            "_view_module": "@jupyter-widgets/base",
            "_view_module_version": "1.2.0",
            "_view_name": "LayoutView",
            "align_content": null,
            "align_items": null,
            "align_self": null,
            "border": null,
            "bottom": null,
            "display": null,
            "flex": null,
            "flex_flow": null,
            "grid_area": null,
            "grid_auto_columns": null,
            "grid_auto_flow": null,
            "grid_auto_rows": null,
            "grid_column": null,
            "grid_gap": null,
            "grid_row": null,
            "grid_template_areas": null,
            "grid_template_columns": null,
            "grid_template_rows": null,
            "height": null,
            "justify_content": null,
            "justify_items": null,
            "left": null,
            "margin": null,
            "max_height": null,
            "max_width": null,
            "min_height": null,
            "min_width": null,
            "object_fit": null,
            "object_position": null,
            "order": null,
            "overflow": null,
            "overflow_x": null,
            "overflow_y": null,
            "padding": null,
            "right": null,
            "top": null,
            "visibility": null,
            "width": null
          }
        },
        "f3647df7a80544fb92e0b89982c97550": {
          "model_module": "@jupyter-widgets/controls",
          "model_name": "DescriptionStyleModel",
          "model_module_version": "1.5.0",
          "state": {
            "_model_module": "@jupyter-widgets/controls",
            "_model_module_version": "1.5.0",
            "_model_name": "DescriptionStyleModel",
            "_view_count": null,
            "_view_module": "@jupyter-widgets/base",
            "_view_module_version": "1.2.0",
            "_view_name": "StyleView",
            "description_width": ""
          }
        },
        "6dc8187ada51410b8914bca39eaa4235": {
          "model_module": "@jupyter-widgets/base",
          "model_name": "LayoutModel",
          "model_module_version": "1.2.0",
          "state": {
            "_model_module": "@jupyter-widgets/base",
            "_model_module_version": "1.2.0",
            "_model_name": "LayoutModel",
            "_view_count": null,
            "_view_module": "@jupyter-widgets/base",
            "_view_module_version": "1.2.0",
            "_view_name": "LayoutView",
            "align_content": null,
            "align_items": null,
            "align_self": null,
            "border": null,
            "bottom": null,
            "display": null,
            "flex": null,
            "flex_flow": null,
            "grid_area": null,
            "grid_auto_columns": null,
            "grid_auto_flow": null,
            "grid_auto_rows": null,
            "grid_column": null,
            "grid_gap": null,
            "grid_row": null,
            "grid_template_areas": null,
            "grid_template_columns": null,
            "grid_template_rows": null,
            "height": null,
            "justify_content": null,
            "justify_items": null,
            "left": null,
            "margin": null,
            "max_height": null,
            "max_width": null,
            "min_height": null,
            "min_width": null,
            "object_fit": null,
            "object_position": null,
            "order": null,
            "overflow": null,
            "overflow_x": null,
            "overflow_y": null,
            "padding": null,
            "right": null,
            "top": null,
            "visibility": null,
            "width": null
          }
        },
        "558add5bdd294c4993cc607e440a35b2": {
          "model_module": "@jupyter-widgets/controls",
          "model_name": "ProgressStyleModel",
          "model_module_version": "1.5.0",
          "state": {
            "_model_module": "@jupyter-widgets/controls",
            "_model_module_version": "1.5.0",
            "_model_name": "ProgressStyleModel",
            "_view_count": null,
            "_view_module": "@jupyter-widgets/base",
            "_view_module_version": "1.2.0",
            "_view_name": "StyleView",
            "bar_color": null,
            "description_width": ""
          }
        },
        "48f7e15b3c384cce979456ab5b977b92": {
          "model_module": "@jupyter-widgets/base",
          "model_name": "LayoutModel",
          "model_module_version": "1.2.0",
          "state": {
            "_model_module": "@jupyter-widgets/base",
            "_model_module_version": "1.2.0",
            "_model_name": "LayoutModel",
            "_view_count": null,
            "_view_module": "@jupyter-widgets/base",
            "_view_module_version": "1.2.0",
            "_view_name": "LayoutView",
            "align_content": null,
            "align_items": null,
            "align_self": null,
            "border": null,
            "bottom": null,
            "display": null,
            "flex": null,
            "flex_flow": null,
            "grid_area": null,
            "grid_auto_columns": null,
            "grid_auto_flow": null,
            "grid_auto_rows": null,
            "grid_column": null,
            "grid_gap": null,
            "grid_row": null,
            "grid_template_areas": null,
            "grid_template_columns": null,
            "grid_template_rows": null,
            "height": null,
            "justify_content": null,
            "justify_items": null,
            "left": null,
            "margin": null,
            "max_height": null,
            "max_width": null,
            "min_height": null,
            "min_width": null,
            "object_fit": null,
            "object_position": null,
            "order": null,
            "overflow": null,
            "overflow_x": null,
            "overflow_y": null,
            "padding": null,
            "right": null,
            "top": null,
            "visibility": null,
            "width": null
          }
        },
        "15d211e5c34346d9809fcf14a14cbd90": {
          "model_module": "@jupyter-widgets/controls",
          "model_name": "DescriptionStyleModel",
          "model_module_version": "1.5.0",
          "state": {
            "_model_module": "@jupyter-widgets/controls",
            "_model_module_version": "1.5.0",
            "_model_name": "DescriptionStyleModel",
            "_view_count": null,
            "_view_module": "@jupyter-widgets/base",
            "_view_module_version": "1.2.0",
            "_view_name": "StyleView",
            "description_width": ""
          }
        },
        "262b92b0285c43d898dad4ab7bc5811a": {
          "model_module": "@jupyter-widgets/controls",
          "model_name": "HBoxModel",
          "model_module_version": "1.5.0",
          "state": {
            "_dom_classes": [],
            "_model_module": "@jupyter-widgets/controls",
            "_model_module_version": "1.5.0",
            "_model_name": "HBoxModel",
            "_view_count": null,
            "_view_module": "@jupyter-widgets/controls",
            "_view_module_version": "1.5.0",
            "_view_name": "HBoxView",
            "box_style": "",
            "children": [
              "IPY_MODEL_91f940e309ad4fca9a51d245b3779d3a",
              "IPY_MODEL_c1131beaf5834fdaadba2ee226df772c",
              "IPY_MODEL_b0610a753512449caf2b69c6f5fd5c2f"
            ],
            "layout": "IPY_MODEL_3ddcd72560a549619118f6753cca7902"
          }
        },
        "91f940e309ad4fca9a51d245b3779d3a": {
          "model_module": "@jupyter-widgets/controls",
          "model_name": "HTMLModel",
          "model_module_version": "1.5.0",
          "state": {
            "_dom_classes": [],
            "_model_module": "@jupyter-widgets/controls",
            "_model_module_version": "1.5.0",
            "_model_name": "HTMLModel",
            "_view_count": null,
            "_view_module": "@jupyter-widgets/controls",
            "_view_module_version": "1.5.0",
            "_view_name": "HTMLView",
            "description": "",
            "description_tooltip": null,
            "layout": "IPY_MODEL_ce4bd52ae315458585625fd72184f23b",
            "placeholder": "​",
            "style": "IPY_MODEL_86b7460a333046d99d328b75304cded8",
            "value": "model.safetensors: 100%"
          }
        },
        "c1131beaf5834fdaadba2ee226df772c": {
          "model_module": "@jupyter-widgets/controls",
          "model_name": "FloatProgressModel",
          "model_module_version": "1.5.0",
          "state": {
            "_dom_classes": [],
            "_model_module": "@jupyter-widgets/controls",
            "_model_module_version": "1.5.0",
            "_model_name": "FloatProgressModel",
            "_view_count": null,
            "_view_module": "@jupyter-widgets/controls",
            "_view_module_version": "1.5.0",
            "_view_name": "ProgressView",
            "bar_style": "success",
            "description": "",
            "description_tooltip": null,
            "layout": "IPY_MODEL_6cbaa0fa8db74dd0b5a15be07e104526",
            "max": 346161616,
            "min": 0,
            "orientation": "horizontal",
            "style": "IPY_MODEL_6924033b19f24ddf8979f5d54b63a394",
            "value": 346161616
          }
        },
        "b0610a753512449caf2b69c6f5fd5c2f": {
          "model_module": "@jupyter-widgets/controls",
          "model_name": "HTMLModel",
          "model_module_version": "1.5.0",
          "state": {
            "_dom_classes": [],
            "_model_module": "@jupyter-widgets/controls",
            "_model_module_version": "1.5.0",
            "_model_name": "HTMLModel",
            "_view_count": null,
            "_view_module": "@jupyter-widgets/controls",
            "_view_module_version": "1.5.0",
            "_view_name": "HTMLView",
            "description": "",
            "description_tooltip": null,
            "layout": "IPY_MODEL_a33e11c4a2d14a3f953fe579476b0edc",
            "placeholder": "​",
            "style": "IPY_MODEL_7431741bf31e41b881579d7fd0c9633e",
            "value": " 346M/346M [00:05&lt;00:00, 55.6MB/s]"
          }
        },
        "3ddcd72560a549619118f6753cca7902": {
          "model_module": "@jupyter-widgets/base",
          "model_name": "LayoutModel",
          "model_module_version": "1.2.0",
          "state": {
            "_model_module": "@jupyter-widgets/base",
            "_model_module_version": "1.2.0",
            "_model_name": "LayoutModel",
            "_view_count": null,
            "_view_module": "@jupyter-widgets/base",
            "_view_module_version": "1.2.0",
            "_view_name": "LayoutView",
            "align_content": null,
            "align_items": null,
            "align_self": null,
            "border": null,
            "bottom": null,
            "display": null,
            "flex": null,
            "flex_flow": null,
            "grid_area": null,
            "grid_auto_columns": null,
            "grid_auto_flow": null,
            "grid_auto_rows": null,
            "grid_column": null,
            "grid_gap": null,
            "grid_row": null,
            "grid_template_areas": null,
            "grid_template_columns": null,
            "grid_template_rows": null,
            "height": null,
            "justify_content": null,
            "justify_items": null,
            "left": null,
            "margin": null,
            "max_height": null,
            "max_width": null,
            "min_height": null,
            "min_width": null,
            "object_fit": null,
            "object_position": null,
            "order": null,
            "overflow": null,
            "overflow_x": null,
            "overflow_y": null,
            "padding": null,
            "right": null,
            "top": null,
            "visibility": null,
            "width": null
          }
        },
        "ce4bd52ae315458585625fd72184f23b": {
          "model_module": "@jupyter-widgets/base",
          "model_name": "LayoutModel",
          "model_module_version": "1.2.0",
          "state": {
            "_model_module": "@jupyter-widgets/base",
            "_model_module_version": "1.2.0",
            "_model_name": "LayoutModel",
            "_view_count": null,
            "_view_module": "@jupyter-widgets/base",
            "_view_module_version": "1.2.0",
            "_view_name": "LayoutView",
            "align_content": null,
            "align_items": null,
            "align_self": null,
            "border": null,
            "bottom": null,
            "display": null,
            "flex": null,
            "flex_flow": null,
            "grid_area": null,
            "grid_auto_columns": null,
            "grid_auto_flow": null,
            "grid_auto_rows": null,
            "grid_column": null,
            "grid_gap": null,
            "grid_row": null,
            "grid_template_areas": null,
            "grid_template_columns": null,
            "grid_template_rows": null,
            "height": null,
            "justify_content": null,
            "justify_items": null,
            "left": null,
            "margin": null,
            "max_height": null,
            "max_width": null,
            "min_height": null,
            "min_width": null,
            "object_fit": null,
            "object_position": null,
            "order": null,
            "overflow": null,
            "overflow_x": null,
            "overflow_y": null,
            "padding": null,
            "right": null,
            "top": null,
            "visibility": null,
            "width": null
          }
        },
        "86b7460a333046d99d328b75304cded8": {
          "model_module": "@jupyter-widgets/controls",
          "model_name": "DescriptionStyleModel",
          "model_module_version": "1.5.0",
          "state": {
            "_model_module": "@jupyter-widgets/controls",
            "_model_module_version": "1.5.0",
            "_model_name": "DescriptionStyleModel",
            "_view_count": null,
            "_view_module": "@jupyter-widgets/base",
            "_view_module_version": "1.2.0",
            "_view_name": "StyleView",
            "description_width": ""
          }
        },
        "6cbaa0fa8db74dd0b5a15be07e104526": {
          "model_module": "@jupyter-widgets/base",
          "model_name": "LayoutModel",
          "model_module_version": "1.2.0",
          "state": {
            "_model_module": "@jupyter-widgets/base",
            "_model_module_version": "1.2.0",
            "_model_name": "LayoutModel",
            "_view_count": null,
            "_view_module": "@jupyter-widgets/base",
            "_view_module_version": "1.2.0",
            "_view_name": "LayoutView",
            "align_content": null,
            "align_items": null,
            "align_self": null,
            "border": null,
            "bottom": null,
            "display": null,
            "flex": null,
            "flex_flow": null,
            "grid_area": null,
            "grid_auto_columns": null,
            "grid_auto_flow": null,
            "grid_auto_rows": null,
            "grid_column": null,
            "grid_gap": null,
            "grid_row": null,
            "grid_template_areas": null,
            "grid_template_columns": null,
            "grid_template_rows": null,
            "height": null,
            "justify_content": null,
            "justify_items": null,
            "left": null,
            "margin": null,
            "max_height": null,
            "max_width": null,
            "min_height": null,
            "min_width": null,
            "object_fit": null,
            "object_position": null,
            "order": null,
            "overflow": null,
            "overflow_x": null,
            "overflow_y": null,
            "padding": null,
            "right": null,
            "top": null,
            "visibility": null,
            "width": null
          }
        },
        "6924033b19f24ddf8979f5d54b63a394": {
          "model_module": "@jupyter-widgets/controls",
          "model_name": "ProgressStyleModel",
          "model_module_version": "1.5.0",
          "state": {
            "_model_module": "@jupyter-widgets/controls",
            "_model_module_version": "1.5.0",
            "_model_name": "ProgressStyleModel",
            "_view_count": null,
            "_view_module": "@jupyter-widgets/base",
            "_view_module_version": "1.2.0",
            "_view_name": "StyleView",
            "bar_color": null,
            "description_width": ""
          }
        },
        "a33e11c4a2d14a3f953fe579476b0edc": {
          "model_module": "@jupyter-widgets/base",
          "model_name": "LayoutModel",
          "model_module_version": "1.2.0",
          "state": {
            "_model_module": "@jupyter-widgets/base",
            "_model_module_version": "1.2.0",
            "_model_name": "LayoutModel",
            "_view_count": null,
            "_view_module": "@jupyter-widgets/base",
            "_view_module_version": "1.2.0",
            "_view_name": "LayoutView",
            "align_content": null,
            "align_items": null,
            "align_self": null,
            "border": null,
            "bottom": null,
            "display": null,
            "flex": null,
            "flex_flow": null,
            "grid_area": null,
            "grid_auto_columns": null,
            "grid_auto_flow": null,
            "grid_auto_rows": null,
            "grid_column": null,
            "grid_gap": null,
            "grid_row": null,
            "grid_template_areas": null,
            "grid_template_columns": null,
            "grid_template_rows": null,
            "height": null,
            "justify_content": null,
            "justify_items": null,
            "left": null,
            "margin": null,
            "max_height": null,
            "max_width": null,
            "min_height": null,
            "min_width": null,
            "object_fit": null,
            "object_position": null,
            "order": null,
            "overflow": null,
            "overflow_x": null,
            "overflow_y": null,
            "padding": null,
            "right": null,
            "top": null,
            "visibility": null,
            "width": null
          }
        },
        "7431741bf31e41b881579d7fd0c9633e": {
          "model_module": "@jupyter-widgets/controls",
          "model_name": "DescriptionStyleModel",
          "model_module_version": "1.5.0",
          "state": {
            "_model_module": "@jupyter-widgets/controls",
            "_model_module_version": "1.5.0",
            "_model_name": "DescriptionStyleModel",
            "_view_count": null,
            "_view_module": "@jupyter-widgets/base",
            "_view_module_version": "1.2.0",
            "_view_name": "StyleView",
            "description_width": ""
          }
        }
      }
    }
  },
  "cells": [
    {
      "cell_type": "markdown",
      "metadata": {
        "id": "view-in-github",
        "colab_type": "text"
      },
      "source": [
        "<a href=\"https://colab.research.google.com/github/bluemunchkin/CSE144_SignLanguageTranslator/blob/main/CSE144G11.ipynb\" target=\"_parent\"><img src=\"https://colab.research.google.com/assets/colab-badge.svg\" alt=\"Open In Colab\"/></a>"
      ]
    },
    {
      "cell_type": "code",
      "execution_count": null,
      "metadata": {
        "colab": {
          "base_uri": "https://localhost:8080/"
        },
        "id": "VYVzWNB-Kgar",
        "outputId": "75a83808-0281-495d-baae-4775445e727b"
      },
      "outputs": [
        {
          "output_type": "stream",
          "name": "stdout",
          "text": [
            "Mounted at /content/drive\n"
          ]
        }
      ],
      "source": [
        "from google.colab import drive\n",
        "drive.mount('/content/drive')"
      ]
    },
    {
      "cell_type": "markdown",
      "source": [
        "Loading Labels Into List"
      ],
      "metadata": {
        "id": "um3qLiDcN2vk"
      }
    },
    {
      "cell_type": "code",
      "source": [
        "def load_gloss_words(filepath):\n",
        "  bag_of_words = []\n",
        "  with open(filepath) as f:\n",
        "    for line in f.readlines():\n",
        "      tab_ind = line.find('\\t')\n",
        "      new_line_ind = line.find('\\n')\n",
        "\n",
        "      word = line[tab_ind + 1: new_line_ind]\n",
        "      #print(word)\n",
        "      bag_of_words.append(word)\n",
        "\n",
        "  return bag_of_words"
      ],
      "metadata": {
        "id": "xFsCnrCwM7l7"
      },
      "execution_count": null,
      "outputs": []
    },
    {
      "cell_type": "code",
      "source": [
        "class_list_file_path = \"/content/drive/MyDrive/CSE144StudyGroup/ASLWordModel/ASL_data/wlasl_class_list.txt\"\n",
        "gloss_words = load_gloss_words(class_list_file_path)"
      ],
      "metadata": {
        "id": "ys_TF6yOKwsv",
        "colab": {
          "base_uri": "https://localhost:8080/",
          "height": 298
        },
        "outputId": "1723e0b4-fa69-45f8-fe44-669675bbe59f"
      },
      "execution_count": null,
      "outputs": [
        {
          "output_type": "error",
          "ename": "FileNotFoundError",
          "evalue": "[Errno 2] No such file or directory: '/content/drive/MyDrive/CSE144StudyGroup/ASLWordModel/ASL_data/wlasl_class_list.txt'",
          "traceback": [
            "\u001b[0;31m---------------------------------------------------------------------------\u001b[0m",
            "\u001b[0;31mFileNotFoundError\u001b[0m                         Traceback (most recent call last)",
            "\u001b[0;32m<ipython-input-10-4ccf954b3c8c>\u001b[0m in \u001b[0;36m<cell line: 2>\u001b[0;34m()\u001b[0m\n\u001b[1;32m      1\u001b[0m \u001b[0mclass_list_file_path\u001b[0m \u001b[0;34m=\u001b[0m \u001b[0;34m\"/content/drive/MyDrive/CSE144StudyGroup/ASLWordModel/ASL_data/wlasl_class_list.txt\"\u001b[0m\u001b[0;34m\u001b[0m\u001b[0;34m\u001b[0m\u001b[0m\n\u001b[0;32m----> 2\u001b[0;31m \u001b[0mgloss_words\u001b[0m \u001b[0;34m=\u001b[0m \u001b[0mload_gloss_words\u001b[0m\u001b[0;34m(\u001b[0m\u001b[0mclass_list_file_path\u001b[0m\u001b[0;34m)\u001b[0m\u001b[0;34m\u001b[0m\u001b[0;34m\u001b[0m\u001b[0m\n\u001b[0m",
            "\u001b[0;32m<ipython-input-6-07f0a5518902>\u001b[0m in \u001b[0;36mload_gloss_words\u001b[0;34m(filepath)\u001b[0m\n\u001b[1;32m      1\u001b[0m \u001b[0;32mdef\u001b[0m \u001b[0mload_gloss_words\u001b[0m\u001b[0;34m(\u001b[0m\u001b[0mfilepath\u001b[0m\u001b[0;34m)\u001b[0m\u001b[0;34m:\u001b[0m\u001b[0;34m\u001b[0m\u001b[0;34m\u001b[0m\u001b[0m\n\u001b[1;32m      2\u001b[0m   \u001b[0mbag_of_words\u001b[0m \u001b[0;34m=\u001b[0m \u001b[0;34m[\u001b[0m\u001b[0;34m]\u001b[0m\u001b[0;34m\u001b[0m\u001b[0;34m\u001b[0m\u001b[0m\n\u001b[0;32m----> 3\u001b[0;31m   \u001b[0;32mwith\u001b[0m \u001b[0mopen\u001b[0m\u001b[0;34m(\u001b[0m\u001b[0mfilepath\u001b[0m\u001b[0;34m)\u001b[0m \u001b[0;32mas\u001b[0m \u001b[0mf\u001b[0m\u001b[0;34m:\u001b[0m\u001b[0;34m\u001b[0m\u001b[0;34m\u001b[0m\u001b[0m\n\u001b[0m\u001b[1;32m      4\u001b[0m     \u001b[0;32mfor\u001b[0m \u001b[0mline\u001b[0m \u001b[0;32min\u001b[0m \u001b[0mf\u001b[0m\u001b[0;34m.\u001b[0m\u001b[0mreadlines\u001b[0m\u001b[0;34m(\u001b[0m\u001b[0;34m)\u001b[0m\u001b[0;34m:\u001b[0m\u001b[0;34m\u001b[0m\u001b[0;34m\u001b[0m\u001b[0m\n\u001b[1;32m      5\u001b[0m       \u001b[0mtab_ind\u001b[0m \u001b[0;34m=\u001b[0m \u001b[0mline\u001b[0m\u001b[0;34m.\u001b[0m\u001b[0mfind\u001b[0m\u001b[0;34m(\u001b[0m\u001b[0;34m'\\t'\u001b[0m\u001b[0;34m)\u001b[0m\u001b[0;34m\u001b[0m\u001b[0;34m\u001b[0m\u001b[0m\n",
            "\u001b[0;31mFileNotFoundError\u001b[0m: [Errno 2] No such file or directory: '/content/drive/MyDrive/CSE144StudyGroup/ASLWordModel/ASL_data/wlasl_class_list.txt'"
          ]
        }
      ]
    },
    {
      "cell_type": "markdown",
      "source": [
        "Loading Missing Video ID's (some of the videos in the json are missing)"
      ],
      "metadata": {
        "id": "lXfhwscrNqOx"
      }
    },
    {
      "cell_type": "code",
      "source": [
        "def load_missing_videos_ids(filepath):\n",
        "  missing_vid_ids = []\n",
        "  with open(filepath) as f:\n",
        "    for line in f.readlines():\n",
        "      missing_vid_ids.append(int(line[:-1]))\n",
        "\n",
        "  return missing_vid_ids"
      ],
      "metadata": {
        "id": "Vt_EihYFNpJl"
      },
      "execution_count": null,
      "outputs": []
    },
    {
      "cell_type": "code",
      "source": [
        "missing_video_ids= \"/content/drive/MyDrive/CSE144StudyGroup/old_data/missing.txt\"\n",
        "missing_vid_ids= load_missing_videos_ids(missing_video_ids)"
      ],
      "metadata": {
        "id": "qTtlDknSM5sC"
      },
      "execution_count": null,
      "outputs": []
    },
    {
      "cell_type": "code",
      "source": [
        "len(missing_vid_ids)"
      ],
      "metadata": {
        "id": "84Nc-js0YmfN",
        "colab": {
          "base_uri": "https://localhost:8080/"
        },
        "outputId": "f55d001a-9713-46a2-fd5d-7071c7974d6c"
      },
      "execution_count": null,
      "outputs": [
        {
          "output_type": "execute_result",
          "data": {
            "text/plain": [
              "9103"
            ]
          },
          "metadata": {},
          "execution_count": 176
        }
      ]
    },
    {
      "cell_type": "markdown",
      "source": [
        "Loading In JSON"
      ],
      "metadata": {
        "id": "Sb8zZfWkOSkD"
      }
    },
    {
      "cell_type": "code",
      "source": [
        "import json\n",
        "json_file_path = \"/content/drive/MyDrive/CSE144StudyGroup/old_data/WLASL_v0.3.json\"\n",
        "f = open(json_file_path)\n",
        "data = json.load(f)"
      ],
      "metadata": {
        "id": "LW_jrTyFOUfQ",
        "colab": {
          "base_uri": "https://localhost:8080/",
          "height": 193
        },
        "outputId": "0a164b38-0f5b-47e5-9924-62a9fb124d18"
      },
      "execution_count": null,
      "outputs": [
        {
          "output_type": "error",
          "ename": "FileNotFoundError",
          "evalue": "[Errno 2] No such file or directory: '/content/drive/MyDrive/CSE144StudyGroup/old_data/WLASL_v0.3.json'",
          "traceback": [
            "\u001b[0;31m---------------------------------------------------------------------------\u001b[0m",
            "\u001b[0;31mFileNotFoundError\u001b[0m                         Traceback (most recent call last)",
            "\u001b[0;32m<ipython-input-8-ed39808d22c5>\u001b[0m in \u001b[0;36m<cell line: 3>\u001b[0;34m()\u001b[0m\n\u001b[1;32m      1\u001b[0m \u001b[0;32mimport\u001b[0m \u001b[0mjson\u001b[0m\u001b[0;34m\u001b[0m\u001b[0;34m\u001b[0m\u001b[0m\n\u001b[1;32m      2\u001b[0m \u001b[0mjson_file_path\u001b[0m \u001b[0;34m=\u001b[0m \u001b[0;34m\"/content/drive/MyDrive/CSE144StudyGroup/old_data/WLASL_v0.3.json\"\u001b[0m\u001b[0;34m\u001b[0m\u001b[0;34m\u001b[0m\u001b[0m\n\u001b[0;32m----> 3\u001b[0;31m \u001b[0mf\u001b[0m \u001b[0;34m=\u001b[0m \u001b[0mopen\u001b[0m\u001b[0;34m(\u001b[0m\u001b[0mjson_file_path\u001b[0m\u001b[0;34m)\u001b[0m\u001b[0;34m\u001b[0m\u001b[0;34m\u001b[0m\u001b[0m\n\u001b[0m\u001b[1;32m      4\u001b[0m \u001b[0mdata\u001b[0m \u001b[0;34m=\u001b[0m \u001b[0mjson\u001b[0m\u001b[0;34m.\u001b[0m\u001b[0mload\u001b[0m\u001b[0;34m(\u001b[0m\u001b[0mf\u001b[0m\u001b[0;34m)\u001b[0m\u001b[0;34m\u001b[0m\u001b[0;34m\u001b[0m\u001b[0m\n",
            "\u001b[0;31mFileNotFoundError\u001b[0m: [Errno 2] No such file or directory: '/content/drive/MyDrive/CSE144StudyGroup/old_data/WLASL_v0.3.json'"
          ]
        }
      ]
    },
    {
      "cell_type": "code",
      "source": [
        "def load_json_to_dict(data):\n",
        "  gloss_word_to_inst_dict = {}\n",
        "  for gloss_words_info in data:\n",
        "    vid_ids = []\n",
        "    split = []\n",
        "    for instance_struct in gloss_words_info['instances']:\n",
        "      vid_id = instance_struct['video_id']\n",
        "      vid_ids.append(int(vid_id))\n",
        "      split.append(instance_struct['split'])\n",
        "    if gloss_words_info['gloss'] not in gloss_word_to_inst_dict.keys():\n",
        "      gloss_word_to_inst_dict[gloss_words_info['gloss']] = {\"video_ids\": vid_ids, \"splits\": split}\n",
        "  return gloss_word_to_inst_dict"
      ],
      "metadata": {
        "id": "z-xF1ovpOrEy"
      },
      "execution_count": null,
      "outputs": []
    },
    {
      "cell_type": "code",
      "source": [
        "def remove_missing_video_ids(instances_dict,missing_vid_ids):\n",
        "  leng=0\n",
        "  leng2=0\n",
        "  for gloss_word in instances_dict.keys():\n",
        "    vid_ids = instances_dict[gloss_word]['video_ids']\n",
        "\n",
        "    for vid_id in vid_ids:\n",
        "\n",
        "      if vid_id in missing_vid_ids:\n",
        "        indexToUpdate = instances_dict[gloss_word][\"video_ids\"].index(vid_id)\n",
        "        instances_dict[gloss_word][\"video_ids\"].remove(vid_id)\n",
        "        leng += len(instances_dict[gloss_word][\"video_ids\"])\n",
        "        instances_dict[gloss_word][\"splits\"].pop(indexToUpdate)\n",
        "        leng2 += len(instances_dict[gloss_word][\"splits\"])\n",
        "  print(leng,leng2)\n",
        "\n",
        "  return instances_dict"
      ],
      "metadata": {
        "id": "JJE2SidXUBAb"
      },
      "execution_count": null,
      "outputs": []
    },
    {
      "cell_type": "code",
      "source": [
        "gloss_word_and_inst_dict = load_json_to_dict(data)"
      ],
      "metadata": {
        "id": "Y1g851V4fFn6"
      },
      "execution_count": null,
      "outputs": []
    },
    {
      "cell_type": "code",
      "source": [
        "gloss_word_and_inst_dict"
      ],
      "metadata": {
        "id": "FnPXwSHEeij1"
      },
      "execution_count": null,
      "outputs": []
    },
    {
      "cell_type": "code",
      "source": [
        "data_without_missing = remove_missing_video_ids(gloss_word_and_inst_dict, missing_vid_ids)"
      ],
      "metadata": {
        "colab": {
          "base_uri": "https://localhost:8080/"
        },
        "id": "h19S_Mqx6D8p",
        "outputId": "49aca02f-6a20-42e5-885d-2c8bda9379b1"
      },
      "execution_count": null,
      "outputs": [
        {
          "output_type": "stream",
          "name": "stdout",
          "text": [
            "62277 62277\n"
          ]
        }
      ]
    },
    {
      "cell_type": "code",
      "source": [
        "sp = 0\n",
        "gw = 0\n",
        "for g in gloss_word_and_inst_dict:\n",
        "  s = len(gloss_word_and_inst_dict[g]['splits'])\n",
        "  sp+=s\n",
        "  g = len(gloss_word_and_inst_dict[g]['video_ids'])\n",
        "  gw +=g\n",
        "\n",
        "print(sp, gw)"
      ],
      "metadata": {
        "colab": {
          "base_uri": "https://localhost:8080/"
        },
        "id": "964RQtVX4Get",
        "outputId": "9b802701-f2e2-4e67-ec90-964764d7cac2"
      },
      "execution_count": null,
      "outputs": [
        {
          "output_type": "stream",
          "name": "stdout",
          "text": [
            "21083 21083\n"
          ]
        }
      ]
    },
    {
      "cell_type": "code",
      "source": [
        "def identify_differences_in_altered_vs_orig(gloss_word_and_inst_dict_orig, new_id_dict):\n",
        "  orig_num_vids=0\n",
        "  for gloss in gloss_word_and_inst_dict_orig.keys():\n",
        "    orig_num_vids += len(gloss_word_and_inst_dict_orig[gloss]['splits'])\n",
        "\n",
        "  after_remove_missing = 0\n",
        "\n",
        "  for gloss in new_id_dict.keys():\n",
        "    after_remove_missing += len(new_id_dict[gloss]['splits'])\n",
        "\n",
        "  return orig_num_vids, after_remove_missing,  after_remove_missing - orig_num_vids\n",
        "orig_num_vids,after_remove_missing, difference = identify_differences_in_altered_vs_orig(gloss_word_and_inst_dict, data_without_missing)\n",
        "\n",
        "print(orig_num_vids,after_remove_missing, difference)\n"
      ],
      "metadata": {
        "colab": {
          "base_uri": "https://localhost:8080/"
        },
        "id": "YjRv33FpU4c3",
        "outputId": "ec7b819c-2290-4ecd-d715-5e00b845edd6"
      },
      "execution_count": null,
      "outputs": [
        {
          "output_type": "stream",
          "name": "stdout",
          "text": [
            "21083 14328 -6755\n"
          ]
        }
      ]
    },
    {
      "cell_type": "markdown",
      "source": [
        "Convert the videos to Frames"
      ],
      "metadata": {
        "id": "jUTjHAsxpwCC"
      }
    },
    {
      "cell_type": "code",
      "source": [
        "import cv2, os\n",
        "def conv_video_to_frame(video_path, out_dir):\n",
        "  #if frames saved don't re-parse them\n",
        "  if os.path.exists(out_dir):\n",
        "    return\n",
        "  print(\"Entered video_to_frame\")\n",
        "  video_capture = cv2.VideoCapture(video_path)\n",
        "  print(\"captured\")\n",
        "  os.makedirs(out_dir, exist_ok=True)\n",
        "\n",
        "  success=True\n",
        "  frame_count=0\n",
        "  while success:\n",
        "    success,frame = video_capture.read()\n",
        "    frame_count += 1\n",
        "\n",
        "    if frame is not None:\n",
        "      frame_path = os.path.join(out_dir, f\"frame_{frame_count}.jpg\")\n",
        "      cv2.imwrite(frame_path, frame)\n",
        "\n",
        "    if cv2.waitKey(20) and 0xFF == ord('q'):\n",
        "      break\n",
        "  print(\"Finishing video_to_frame\")\n",
        "  video_capture.release()\n",
        "  cv2.destroyAllWindows()"
      ],
      "metadata": {
        "id": "FYQM_R1bk2tj"
      },
      "execution_count": null,
      "outputs": []
    },
    {
      "cell_type": "code",
      "source": [
        "#base dir paths\n",
        "dataset_dir = \"/content/drive/MyDrive/CSE 144 Study Group/Data/\"\n",
        "video_base_dir=\"/content/drive/MyDrive/CSE 144 Study Group/Data/videos\"\n",
        "\n",
        "#make a train folder\n",
        "os.makedirs(os.path.join(dataset_dir, \"Train\"), exist_ok=True)\n",
        "train_dir=\"/content/drive/MyDrive/CSE 144 Study Group/Data/Train\"\n",
        "\n",
        "#make a test folder\n",
        "os.makedirs(os.path.join(dataset_dir, \"Test\"), exist_ok=True)\n",
        "test_dir=\"/content/drive/MyDrive/CSE 144 Study Group/Data/Test\"\n",
        "\n",
        "def extract_frames(video_base_dir, train_dir, test_dir, data_dict):\n",
        "  '''\n",
        "    - extract frames for each video.\n",
        "    - loop throuhg each gloss word and get all the videos associated with that word\n",
        "    - extract frames from each video and store it in the folder associated with the video in the folder for that word\n",
        "  '''\n",
        "  for gloss_word in data_dict.keys():\n",
        "\n",
        "    split_list = data_dict[gloss_word][\"splits\"]\n",
        "\n",
        "    list_of_video_ids = data_dict[gloss_word][\"video_ids\"]\n",
        "\n",
        "    for index,vid_id in enumerate(list_of_video_ids):\n",
        "      os.path.join(video_base_dir, str(vid_id) + \".mp4\")\n",
        "      video_file_path = f\"{video_base_dir}/{str(vid_id)}.mp4\"\n",
        "      if split_list[index] == 'train':\n",
        "        os.makedirs(os.path.join(train_dir, gloss_word, str(vid_id)), exist_ok=True);\n",
        "        print(\"Made folder for \", vid_id)\n",
        "        target_file_path = f\"{train_dir}/{gloss_word}/{str(vid_id)}\"\n",
        "        conv_video_to_frame(video_file_path, target_file_path)\n",
        "      elif split_list[index] == 'test':\n",
        "        os.makedirs(os.path.join(test_dir, gloss_word, str(vid_id)), exist_ok=True);\n",
        "        target_file_path = f\"{test_dir}/{gloss_word}/{str(vid_id)}\"\n",
        "        conv_video_to_frame(video_file_path, target_file_path)\n",
        "\n",
        "'''In videos add\n",
        "bad resolution videos,\n",
        "angled frames,\n",
        "zoomed in frames\n",
        "zoomed out frames\n"
      ],
      "metadata": {
        "id": "Rk6JgLEL0MDf"
      },
      "execution_count": null,
      "outputs": []
    },
    {
      "cell_type": "code",
      "source": [
        "extract_frames(video_base_dir, train_dir, test_dir, data_without_missing)"
      ],
      "metadata": {
        "id": "GqvXdy_FakRW"
      },
      "execution_count": null,
      "outputs": []
    },
    {
      "cell_type": "code",
      "source": [
        "import shutil\n",
        "import os\n",
        "def sort_videos(video_base_dir, train_dir, test_dir, data_dict):\n",
        "  '''\n",
        "    - extract frames for each video.\n",
        "    - loop throuhg each gloss word and get all the videos associated with that word\n",
        "    - extract frames from each video and store it in the folder associated with the video in the folder for that word\n",
        "  '''\n",
        "  for gloss_word in data_dict.keys():\n",
        "\n",
        "    split_list = data_dict[gloss_word][\"splits\"]\n",
        "\n",
        "    list_of_video_ids = data_dict[gloss_word][\"video_ids\"]\n",
        "    for index,vid_id in enumerate(list_of_video_ids):\n",
        "      video_file_path = f\"{video_base_dir}/{str(vid_id)}.mp4\"\n",
        "      if not os.path.exists(video_file_path) or os.path.exists(train_dir + \"/\" + str(vid_id) + \".mp4\") or os.path.exists(test_dir + \"/\" + str(vid_id) + \".mp4\"):\n",
        "        continue\n",
        "      if split_list[index] == 'train'  or split_list[index] == 'val':\n",
        "        shutil.copy(video_file_path,train_dir)\n",
        "      elif split_list[index] == 'test':\n",
        "        shutil.copy(video_file_path,test_dir)"
      ],
      "metadata": {
        "id": "FELsUjJIe8RI"
      },
      "execution_count": null,
      "outputs": []
    },
    {
      "cell_type": "code",
      "source": [
        "len(os.listdir(\"/content/drive/MyDrive/CSE144StudyGroup/old_data/train_videos\"))"
      ],
      "metadata": {
        "colab": {
          "base_uri": "https://localhost:8080/"
        },
        "id": "TSD-9HTtkU9_",
        "outputId": "b8800932-26be-4d74-e52b-85b1960a2b6e"
      },
      "execution_count": null,
      "outputs": [
        {
          "output_type": "execute_result",
          "data": {
            "text/plain": [
              "8009"
            ]
          },
          "metadata": {},
          "execution_count": 94
        }
      ]
    },
    {
      "cell_type": "code",
      "source": [
        "train_p=\"/content/drive/MyDrive/CSE144StudyGroup/old_data/train_videos\"\n",
        "test_p=\"/content/drive/MyDrive/CSE144StudyGroup/old_data/test_videos\"\n",
        "sort_videos(\"/content/drive/MyDrive/CSE144StudyGroup/old_data/videos\", train_p, test_p,data_without_missing)"
      ],
      "metadata": {
        "id": "_qt68snqfYGX"
      },
      "execution_count": null,
      "outputs": []
    },
    {
      "cell_type": "code",
      "source": [
        "import pandas as pd\n",
        "entry = pd.DataFrame.from_dict(data_without_missing)"
      ],
      "metadata": {
        "id": "PmJeRiLyjSh2"
      },
      "execution_count": null,
      "outputs": []
    },
    {
      "cell_type": "code",
      "source": [
        "\n",
        "\n",
        "#func: put each video_id on its own line\n",
        "\n",
        "\n",
        "\n",
        "\n",
        "\n",
        "print(l_o)\n",
        "data_dict"
      ],
      "metadata": {
        "id": "2c4Oyqz-qk0S"
      },
      "execution_count": null,
      "outputs": []
    },
    {
      "cell_type": "code",
      "source": [
        "entry=entry.drop('splits',axis=0).transpose().reset_index().rename(columns={\"index\": \"label\"})"
      ],
      "metadata": {
        "id": "DtjlFPETqD8k"
      },
      "execution_count": null,
      "outputs": []
    },
    {
      "cell_type": "code",
      "source": [
        "type(entry)"
      ],
      "metadata": {
        "id": "X3XQa0uj7VPZ"
      },
      "execution_count": null,
      "outputs": []
    },
    {
      "cell_type": "markdown",
      "source": [
        "Model to use"
      ],
      "metadata": {
        "id": "DnutcO3jZFFz"
      }
    },
    {
      "cell_type": "code",
      "source": [
        "from transformers import ViTImageProcessor, ViTForImageClassification\n",
        "from PIL import Image\n",
        "import requests\n",
        "\n",
        "url = 'http://images.cocodataset.org/val2017/000000039769.jpg'\n",
        "image = Image.open(requests.get(url, stream=True).raw)\n",
        "\n",
        "processor = ViTImageProcessor.from_pretrained('google/vit-base-patch16-224')\n",
        "model = ViTForImageClassification.from_pretrained('google/vit-base-patch16-224')\n",
        "\n",
        "inputs = processor(images=image, return_tensors=\"pt\")\n",
        "outputs = model(**inputs)\n",
        "logits = outputs.logits\n",
        "# model predicts one of the 1000 ImageNet classes\n",
        "predicted_class_idx = logits.argmax(-1).item()\n",
        "print(\"Predicted class:\", model.config.id2label[predicted_class_idx])"
      ],
      "metadata": {
        "id": "vDhNo2cyKqd3"
      },
      "execution_count": null,
      "outputs": []
    },
    {
      "cell_type": "code",
      "source": [
        "def Video_Dataset(Dataset):\n",
        "  def __init__(self,df):\n",
        "    self.df=df\n",
        "  def __getitem__(self,i):\n",
        "    return self.df[i]['video_id'], self.df[i]['label']\n"
      ],
      "metadata": {
        "id": "KR8eIU6MdkSN"
      },
      "execution_count": null,
      "outputs": []
    },
    {
      "cell_type": "code",
      "source": [
        "!pip install av"
      ],
      "metadata": {
        "colab": {
          "base_uri": "https://localhost:8080/"
        },
        "id": "XunDO1YjdZko",
        "outputId": "0426dd00-30c6-4365-9902-3ad53bd9cf56"
      },
      "execution_count": null,
      "outputs": [
        {
          "output_type": "stream",
          "name": "stdout",
          "text": [
            "Collecting av\n",
            "  Downloading av-12.0.0-cp310-cp310-manylinux_2_17_x86_64.manylinux2014_x86_64.whl (33.8 MB)\n",
            "\u001b[2K     \u001b[90m━━━━━━━━━━━━━━━━━━━━━━━━━━━━━━━━━━━━━━━━\u001b[0m \u001b[32m33.8/33.8 MB\u001b[0m \u001b[31m17.7 MB/s\u001b[0m eta \u001b[36m0:00:00\u001b[0m\n",
            "\u001b[?25hInstalling collected packages: av\n",
            "Successfully installed av-12.0.0\n"
          ]
        }
      ]
    },
    {
      "cell_type": "code",
      "source": [
        "import av\n",
        "import torch\n",
        "import numpy as np\n",
        "\n",
        "from transformers import AutoImageProcessor, VideoMAEForVideoClassification\n",
        "from huggingface_hub import hf_hub_download\n",
        "\n",
        "np.random.seed(0)\n",
        "\n",
        "\n",
        "def read_video_pyav(container, indices):\n",
        "    '''\n",
        "    Decode the video with PyAV decoder.\n",
        "    Args:\n",
        "        container (`av.container.input.InputContainer`): PyAV container.\n",
        "        indices (`List[int]`): List of frame indices to decode.\n",
        "    Returns:\n",
        "        result (np.ndarray): np array of decoded frames of shape (num_frames, height, width, 3).\n",
        "    '''\n",
        "    frames = []\n",
        "    container.seek(0)\n",
        "    start_index = indices[0]\n",
        "    end_index = indices[-1]\n",
        "    for i, frame in enumerate(container.decode(video=0)):\n",
        "        if i > end_index:\n",
        "            break\n",
        "        if i >= start_index and i in indices:\n",
        "            frames.append(frame)\n",
        "    return np.stack([x.to_ndarray(format=\"rgb24\") for x in frames])\n",
        "\n",
        "\n",
        "def sample_frame_indices(clip_len, frame_sample_rate, seg_len):\n",
        "    '''\n",
        "    Sample a given number of frame indices from the video.\n",
        "    Args:\n",
        "        clip_len (`int`): Total number of frames to sample.\n",
        "        frame_sample_rate (`int`): Sample every n-th frame.\n",
        "        seg_len (`int`): Maximum allowed index of sample's last frame.\n",
        "    Returns:\n",
        "        indices (`List[int]`): List of sampled frame indices\n",
        "    '''\n",
        "    converted_len = int(clip_len * frame_sample_rate)\n",
        "    end_idx = np.random.randint(converted_len, seg_len)\n",
        "    start_idx = end_idx - converted_len\n",
        "    indices = np.linspace(start_idx, end_idx, num=clip_len)\n",
        "    indices = np.clip(indices, start_idx, end_idx - 1).astype(np.int64)\n",
        "    return indices\n",
        "\n",
        "\n",
        "# video clip consists of 300 frames (10 seconds at 30 FPS)\n",
        "file_path = hf_hub_download(\n",
        "    repo_id=\"nielsr/video-demo\", filename=\"eating_spaghetti.mp4\", repo_type=\"dataset\"\n",
        ")\n",
        "container = av.open(file_path)\n",
        "\n",
        "# sample 16 frames\n",
        "indices = sample_frame_indices(clip_len=16, frame_sample_rate=1, seg_len=container.streams.video[0].frames)\n",
        "video = read_video_pyav(container, indices)\n",
        "\n",
        "image_processor = AutoImageProcessor.from_pretrained(\"MCG-NJU/videomae-base-finetuned-kinetics\")\n",
        "model = VideoMAEForVideoClassification.from_pretrained(\"MCG-NJU/videomae-base-finetuned-kinetics\")\n",
        "\n",
        "inputs = image_processor(list(video), return_tensors=\"pt\")\n",
        "\n",
        "with torch.no_grad():\n",
        "    outputs = model(**inputs)\n",
        "    logits = outputs.logits\n",
        "\n",
        "# model predicts one of the 400 Kinetics-400 classes\n",
        "predicted_label = logits.argmax(-1).item()\n",
        "print(model.config.id2label[predicted_label])\n"
      ],
      "metadata": {
        "colab": {
          "base_uri": "https://localhost:8080/",
          "height": 236,
          "referenced_widgets": [
            "8e269e82a72e4528b8d82e31ebdbc3bd",
            "4a748d01171248ada33ca27ddb04c5ea",
            "0ad6a62d17b74b34a46517d03313524c",
            "129160b4dfbb4fc48d69fd499477e43d",
            "d63efd4a1158464390d9f9b74c33bb3f",
            "432e12a074d04f2187c3971bfda4aa57",
            "d5fb0fd144384164b366ae99be63e8f3",
            "451aa2f67af94ebf9c09fe49eeacd2a5",
            "1d474c2e6d004c518016987963d48608",
            "dbacbddb8ddf4ac18b437f3d79524b60",
            "8fada5b45d7f4bd6b77711b627ff6c27",
            "5270f50a385e496a8ff7bfeb97ff43a2",
            "fca4051ca30845a5941bc5b629dbf68f",
            "a3dad46222c140d299f530133b732d1e",
            "da429e91d8fd4b1cbd9e945d3103076c",
            "42d6b071b135472cac17e6d4f6cc7bcd",
            "a1d302a6397e4928a0d03e949a9deed3",
            "e9055e6810794c7eab46783303b099d7",
            "a0c8236f91d44f12b0ea181f601c33e4",
            "6963ee1356954eb3b71c83784b93da27",
            "f57262066d704acfaca119591720c2a3",
            "c242ca6bca66496d925cbf24b6985cdb",
            "331e21c8b18f4de597ef5fa63b643239",
            "3e7db14a503f45da9aa37a37c67d79e0",
            "696795f7f28f4ef9ad78248b61812271",
            "f0e61bb5bdb243c39d1c28280c3be121",
            "f9347e58c168463aa68c872180618818",
            "cf397590c8ed444cafe0460bde6fb443",
            "f3647df7a80544fb92e0b89982c97550",
            "6dc8187ada51410b8914bca39eaa4235",
            "558add5bdd294c4993cc607e440a35b2",
            "48f7e15b3c384cce979456ab5b977b92",
            "15d211e5c34346d9809fcf14a14cbd90",
            "262b92b0285c43d898dad4ab7bc5811a",
            "91f940e309ad4fca9a51d245b3779d3a",
            "c1131beaf5834fdaadba2ee226df772c",
            "b0610a753512449caf2b69c6f5fd5c2f",
            "3ddcd72560a549619118f6753cca7902",
            "ce4bd52ae315458585625fd72184f23b",
            "86b7460a333046d99d328b75304cded8",
            "6cbaa0fa8db74dd0b5a15be07e104526",
            "6924033b19f24ddf8979f5d54b63a394",
            "a33e11c4a2d14a3f953fe579476b0edc",
            "7431741bf31e41b881579d7fd0c9633e"
          ]
        },
        "id": "olq7w9JMhuDG",
        "outputId": "c56b8325-4566-461f-c3c0-8ae98ece66ef"
      },
      "execution_count": null,
      "outputs": [
        {
          "output_type": "display_data",
          "data": {
            "text/plain": [
              "eating_spaghetti.mp4:   0%|          | 0.00/1.01M [00:00<?, ?B/s]"
            ],
            "application/vnd.jupyter.widget-view+json": {
              "version_major": 2,
              "version_minor": 0,
              "model_id": "8e269e82a72e4528b8d82e31ebdbc3bd"
            }
          },
          "metadata": {}
        },
        {
          "output_type": "display_data",
          "data": {
            "text/plain": [
              "preprocessor_config.json:   0%|          | 0.00/271 [00:00<?, ?B/s]"
            ],
            "application/vnd.jupyter.widget-view+json": {
              "version_major": 2,
              "version_minor": 0,
              "model_id": "5270f50a385e496a8ff7bfeb97ff43a2"
            }
          },
          "metadata": {}
        },
        {
          "output_type": "stream",
          "name": "stderr",
          "text": [
            "Could not find image processor class in the image processor config or the model config. Loading based on pattern matching with the model's feature extractor configuration. Please open a PR/issue to update `preprocessor_config.json` to use `image_processor_type` instead of `feature_extractor_type`. This warning will be removed in v4.40.\n"
          ]
        },
        {
          "output_type": "display_data",
          "data": {
            "text/plain": [
              "config.json:   0%|          | 0.00/22.9k [00:00<?, ?B/s]"
            ],
            "application/vnd.jupyter.widget-view+json": {
              "version_major": 2,
              "version_minor": 0,
              "model_id": "331e21c8b18f4de597ef5fa63b643239"
            }
          },
          "metadata": {}
        },
        {
          "output_type": "display_data",
          "data": {
            "text/plain": [
              "model.safetensors:   0%|          | 0.00/346M [00:00<?, ?B/s]"
            ],
            "application/vnd.jupyter.widget-view+json": {
              "version_major": 2,
              "version_minor": 0,
              "model_id": "262b92b0285c43d898dad4ab7bc5811a"
            }
          },
          "metadata": {}
        },
        {
          "output_type": "stream",
          "name": "stderr",
          "text": [
            "/usr/local/lib/python3.10/dist-packages/transformers/feature_extraction_utils.py:141: UserWarning: Creating a tensor from a list of numpy.ndarrays is extremely slow. Please consider converting the list to a single numpy.ndarray with numpy.array() before converting to a tensor. (Triggered internally at ../torch/csrc/utils/tensor_new.cpp:275.)\n",
            "  return torch.tensor(value)\n"
          ]
        },
        {
          "output_type": "stream",
          "name": "stdout",
          "text": [
            "eating spaghetti\n"
          ]
        }
      ]
    }
  ]
}